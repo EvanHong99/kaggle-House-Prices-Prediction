{
 "cells": [
  {
   "cell_type": "code",
   "execution_count": 17,
   "metadata": {},
   "outputs": [],
   "source": [
    "from sklearn import svm\n",
    "import pandas as pd\n",
    "import numpy as np\n",
    "\n",
    "XY_train = pd.read_csv('data/prepossess_train.csv',index_col=0,header=0)\n",
    "X_train = XY_train.iloc[:,:-1]\n",
    "y_train = XY_train.iloc[:,-1]\n",
    "XY_test = pd.read_csv('data/prepossess_valid.csv',index_col=0,header=0)\n",
    "X_test = XY_test.iloc[:,:-1]\n",
    "y_test = XY_test.iloc[:,-1]"
   ]
  },
  {
   "cell_type": "code",
   "execution_count": 37,
   "metadata": {},
   "outputs": [
    {
     "data": {
      "text/plain": [
       "array([230000., 132500., 110000., 144000., 155000., 210000., 100000.,\n",
       "       129000., 190000., 143000., 141000., 145000., 174000., 225000.,\n",
       "       141000., 115000., 110000., 106250., 200000., 115000., 110000.,\n",
       "       210000., 118858., 141000., 110000., 174000., 157000., 136905.,\n",
       "       200000., 190000., 274900., 100000., 200000., 185000., 230000.,\n",
       "       207500., 157000., 140000., 315500., 115000., 325000., 165000.,\n",
       "       245500., 187500., 190000., 130000., 140000., 220000., 140000.,\n",
       "       235000., 191000., 255500.,  88000., 239500., 230000., 325000.,\n",
       "       190000., 176000., 170000., 140000., 125000., 230000., 266000.,\n",
       "       187500., 135000., 255500., 196000., 135000., 115000., 225000.,\n",
       "        88000., 187500., 127500., 230000., 139000., 232600., 115000.,\n",
       "       137500., 350000., 115000., 229456., 215000., 250000., 139500.,\n",
       "       215000., 250000., 191000., 115000., 215000., 140000., 263000.,\n",
       "       130000., 115000., 140000., 315000., 135000., 115000., 148500.,\n",
       "       139000., 129000., 250000., 240000., 135000., 335000., 210000.,\n",
       "       210000., 127500., 250000., 112000., 127500., 250000., 201000.,\n",
       "       144000., 254900., 135000., 312500., 119000., 135000., 115000.,\n",
       "       146000., 127000., 175000., 120000., 115000., 151000., 175000.,\n",
       "       140000., 135900., 100000., 207500., 115000., 154000., 174000.,\n",
       "       119000., 336000., 160000., 202500., 250000., 170000., 115000.,\n",
       "       235000., 196000., 230000., 100000., 180000., 260000., 190000.,\n",
       "       127500., 115000., 175000., 230000., 160000., 250000., 197000.,\n",
       "       161000., 115000., 187500., 178000., 264132., 129000., 137000.,\n",
       "       127000., 115000., 115000., 337500.,  88000.,  87000., 139500.,\n",
       "       110000., 172500.,  80000., 140000., 185000., 135000., 280000.,\n",
       "       155000., 135000., 230000., 115000., 283463., 207500., 275500.,\n",
       "       230000., 113000., 230000., 135000., 158000., 129000., 175000.,\n",
       "       181000., 113000., 115000., 112000., 290000., 115000., 160000.,\n",
       "       143000., 135900., 325000., 172500., 110000., 140000., 190000.,\n",
       "       135000., 174000., 140000., 160000., 140000., 148000., 140000.,\n",
       "       115000., 115000., 110000., 200000., 190000., 141000., 230000.,\n",
       "       200000., 190000., 100000., 215000., 383970., 165000., 235000.,\n",
       "       162500., 165500., 175000., 135000., 129000., 230000., 151000.,\n",
       "       127000., 310000., 128500., 170000., 151000., 135000., 175000.,\n",
       "       174000., 185000., 115000., 100000., 133000., 115000., 230000.,\n",
       "       145000., 115000., 230000., 110000., 148000., 135000., 110000.,\n",
       "       192000., 140000., 140000., 320000., 116000., 112000., 179900.,\n",
       "       145000., 251000.,  88000., 202500., 215000., 290000., 100000.,\n",
       "       260000., 248900.,  88000., 143000., 160000., 230000., 162000.,\n",
       "       190000., 465000., 205950., 248900., 127500., 190000., 121500.,\n",
       "       290000., 118500., 145000., 107400., 154300., 140000., 145000.,\n",
       "       215000., 200000., 127500., 108000., 225000.])"
      ]
     },
     "execution_count": 37,
     "metadata": {},
     "output_type": "execute_result"
    }
   ],
   "source": [
    "#clf = make_pipeline(Normalizer(), MinMaxScaler(), svm.SVC(kernel='linear'))\n",
    "clf = svm.SVC(kernel='poly')\n",
    "clf.fit(X_train, y_train)\n",
    "y_pred = clf.predict(X_test)\n",
    "y_pred"
   ]
  },
  {
   "cell_type": "code",
   "execution_count": 38,
   "metadata": {},
   "outputs": [
    {
     "data": {
      "text/html": [
       "<div>\n",
       "<style scoped>\n",
       "    .dataframe tbody tr th:only-of-type {\n",
       "        vertical-align: middle;\n",
       "    }\n",
       "\n",
       "    .dataframe tbody tr th {\n",
       "        vertical-align: top;\n",
       "    }\n",
       "\n",
       "    .dataframe thead th {\n",
       "        text-align: right;\n",
       "    }\n",
       "</style>\n",
       "<table border=\"1\" class=\"dataframe\">\n",
       "  <thead>\n",
       "    <tr style=\"text-align: right;\">\n",
       "      <th></th>\n",
       "      <th>The_log_of_True</th>\n",
       "      <th>The_log_of_Pred</th>\n",
       "    </tr>\n",
       "    <tr>\n",
       "      <th>Id</th>\n",
       "      <th></th>\n",
       "      <th></th>\n",
       "    </tr>\n",
       "  </thead>\n",
       "  <tbody>\n",
       "    <tr>\n",
       "      <th>1</th>\n",
       "      <td>12.247694</td>\n",
       "      <td>12.345835</td>\n",
       "    </tr>\n",
       "    <tr>\n",
       "      <th>11</th>\n",
       "      <td>11.771436</td>\n",
       "      <td>11.794338</td>\n",
       "    </tr>\n",
       "    <tr>\n",
       "      <th>16</th>\n",
       "      <td>11.790557</td>\n",
       "      <td>11.608236</td>\n",
       "    </tr>\n",
       "    <tr>\n",
       "      <th>18</th>\n",
       "      <td>11.407565</td>\n",
       "      <td>11.877569</td>\n",
       "    </tr>\n",
       "    <tr>\n",
       "      <th>19</th>\n",
       "      <td>11.976659</td>\n",
       "      <td>11.951180</td>\n",
       "    </tr>\n",
       "    <tr>\n",
       "      <th>...</th>\n",
       "      <td>...</td>\n",
       "      <td>...</td>\n",
       "    </tr>\n",
       "    <tr>\n",
       "      <th>1427</th>\n",
       "      <td>12.509874</td>\n",
       "      <td>12.278393</td>\n",
       "    </tr>\n",
       "    <tr>\n",
       "      <th>1431</th>\n",
       "      <td>12.165980</td>\n",
       "      <td>12.206073</td>\n",
       "    </tr>\n",
       "    <tr>\n",
       "      <th>1432</th>\n",
       "      <td>11.875831</td>\n",
       "      <td>11.755872</td>\n",
       "    </tr>\n",
       "    <tr>\n",
       "      <th>1433</th>\n",
       "      <td>11.074421</td>\n",
       "      <td>11.589887</td>\n",
       "    </tr>\n",
       "    <tr>\n",
       "      <th>1452</th>\n",
       "      <td>12.567551</td>\n",
       "      <td>12.323856</td>\n",
       "    </tr>\n",
       "  </tbody>\n",
       "</table>\n",
       "<p>292 rows × 2 columns</p>\n",
       "</div>"
      ],
      "text/plain": [
       "      The_log_of_True  The_log_of_Pred\n",
       "Id                                    \n",
       "1           12.247694        12.345835\n",
       "11          11.771436        11.794338\n",
       "16          11.790557        11.608236\n",
       "18          11.407565        11.877569\n",
       "19          11.976659        11.951180\n",
       "...               ...              ...\n",
       "1427        12.509874        12.278393\n",
       "1431        12.165980        12.206073\n",
       "1432        11.875831        11.755872\n",
       "1433        11.074421        11.589887\n",
       "1452        12.567551        12.323856\n",
       "\n",
       "[292 rows x 2 columns]"
      ]
     },
     "execution_count": 38,
     "metadata": {},
     "output_type": "execute_result"
    }
   ],
   "source": [
    "result = pd.DataFrame({\"The_log_of_True\":(np.log(y_test)), \"The_log_of_Pred\": (np.log(y_pred))})\n",
    "result"
   ]
  },
  {
   "cell_type": "code",
   "execution_count": 39,
   "metadata": {},
   "outputs": [
    {
     "name": "stdout",
     "output_type": "stream",
     "text": [
      "RMSE: 0.2300312181104631\n"
     ]
    }
   ],
   "source": [
    "from sklearn.metrics import mean_squared_error\n",
    "MSE = mean_squared_error(np.log(y_test), np.log(y_pred))\n",
    "RMSE = np.sqrt(MSE)\n",
    "print(\"RMSE:\",RMSE)"
   ]
  },
  {
   "cell_type": "code",
   "execution_count": 20,
   "metadata": {},
   "outputs": [],
   "source": [
    "result_data = pd.read_csv('data/prepossess_test.csv',index_col=0,header=0)\n",
    "result_data = result_data.iloc[:,:-1]\n",
    "result = clf.predict(result_data)\n",
    "result = pd.DataFrame({'Id': result_data.index,'SalePrice':result})"
   ]
  },
  {
   "cell_type": "code",
   "execution_count": 26,
   "metadata": {},
   "outputs": [],
   "source": [
    "result.set_index('Id',drop = True, inplace = True)"
   ]
  },
  {
   "cell_type": "code",
   "execution_count": 27,
   "metadata": {},
   "outputs": [],
   "source": [
    "result.to_csv('mySubmission.csv')"
   ]
  }
 ],
 "metadata": {
  "kernelspec": {
   "display_name": "Python 3.10.4 ('env': venv)",
   "language": "python",
   "name": "python3"
  },
  "language_info": {
   "codemirror_mode": {
    "name": "ipython",
    "version": 3
   },
   "file_extension": ".py",
   "mimetype": "text/x-python",
   "name": "python",
   "nbconvert_exporter": "python",
   "pygments_lexer": "ipython3",
   "version": "3.10.4"
  },
  "orig_nbformat": 4,
  "vscode": {
   "interpreter": {
    "hash": "4ebae508556ade2ad92a13be2b00199e0f63e473b454427e60a016d7939a2dc8"
   }
  }
 },
 "nbformat": 4,
 "nbformat_minor": 2
}